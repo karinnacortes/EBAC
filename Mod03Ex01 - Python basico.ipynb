{
 "cells": [
  {
   "cell_type": "markdown",
   "metadata": {
    "id": "SEE0vQsW83yB"
   },
   "source": [
    "### 01 - Teste de gravidez\n",
    "Escreva uma célula com controle de fluxos que tem como premissa a existência das seguintes variáveis:\n",
    "\n",
    "- ```sexo``` como ```str``` indicando os valores '**M**' para masculino e '**F**' para feminino  \n",
    "- ```beta_hcg``` que indica a quantidade do beta-HCG no sangue em mUI/mL.\n",
    "\n",
    "A sua tarefa é escrever um código que imprima como resultado \"indivíduo do sexo masculino\" quando sexo = 'M', caso sexo = 'F', se o valor de beta-HCG for maior que 5, retorne \"Positivo\" indicando que a paciente está grávida, e retorne \"Negativo\" caso contrário.\n",
    "\n",
    "Não mexa nos valores da variável ```sexo``` nem em ```beta_hcg```, e escreva um código que funcione para quaisquer valores possíveis de ambos: ```sexo``` = '**M**' ou '**F**' e ```beta_hcg``` assumindo valores inteiros positivos."
   ]
  },
  {
   "cell_type": "code",
   "execution_count": 1,
   "metadata": {
    "id": "cTOc4LG683yE"
   },
   "outputs": [
    {
     "name": "stdout",
     "output_type": "stream",
     "text": [
      "Indivíduo do sexo masculino.\n"
     ]
    }
   ],
   "source": [
    "sexo = 'M'\n",
    "beta_hcg = 0\n",
    "\n",
    "# seu código vem abaixo desta linha\n",
    "def resultado_beta_hcg(sexo, beta_hcg:int):\n",
    "    match sexo:\n",
    "        case 'M':\n",
    "            return \"Indivíduo do sexo masculino.\"\n",
    "\n",
    "        case 'F':\n",
    "            if type(beta_hcg) != int or beta_hcg < 0:\n",
    "                return \"Valor atribuído a váriavel 'beta_hcg' é inválido: Aceito inteiros positivos.\"\n",
    "            elif beta_hcg >= 0 and beta_hcg <= 5 :            \n",
    "                return \"Negativo.\"\n",
    "            elif beta_hcg > 5 :\n",
    "                return \"Positivo\"\n",
    "            \n",
    "        case _:\n",
    "            return \"Valor atribuído a variável 'sexo' é inválido: Aceito 'M' para sexo masculino e 'F' para sexo feminino.\"\n",
    "            \n",
    "print(resultado_beta_hcg(sexo, beta_hcg))"
   ]
  },
  {
   "cell_type": "markdown",
   "metadata": {
    "id": "uCoIZDE383yF"
   },
   "source": [
    "### 02 - Renomeando variáveis\n",
    "\n",
    "Vamos ver adiante que uma forma de renomear variáveis de um conjunto de dados é através de dicionários - o dicionário deve conter como chave o nome original, associando a cada chave um único valor (tipo *str*) que contenha o nome novo.\n",
    "\n",
    "A sua tarefa é escrever um dicionário que possa ser utilizado para traduzir as variáveis ```name``` (nome), ```age``` (idade) e ```income``` (renda). Ou seja, esse dicionário deve relacionar as chaves *name, age* e *income* às suas respectivas traduções."
   ]
  },
  {
   "cell_type": "code",
   "execution_count": 78,
   "metadata": {
    "id": "Bh6ijpbu83yG",
    "outputId": "58fbd8da-ed1d-4e05-df85-041c821948f2"
   },
   "outputs": [
    {
     "data": {
      "text/plain": [
       "{'name': 'nome', 'age': 'idade', 'income': 'renda'}"
      ]
     },
     "execution_count": 78,
     "metadata": {},
     "output_type": "execute_result"
    }
   ],
   "source": [
    "dic_renomeacao = {'': ''}\n",
    "dic_renomeacao['name'] = dic_renomeacao.pop('')\n",
    "dic_renomeacao['name'] = 'nome'\n",
    "dic_renomeacao['age'] = 'idade'\n",
    "dic_renomeacao['income'] = 'renda'\n",
    "dic_renomeacao"
   ]
  },
  {
   "cell_type": "markdown",
   "metadata": {
    "id": "95zumO5g83yH"
   },
   "source": [
    "### 03 - É divisível?\n",
    "A sua tarefa é escrever um código que indique se um número ```N``` é divisível por um número ```P```. Escreva um programa que faça essa verificação para quaisquer combinações de ```N``` e ```P``` e devolva uma mensagem indicativa no output."
   ]
  },
  {
   "cell_type": "code",
   "execution_count": 2,
   "metadata": {
    "id": "BR2zOhmN83yI"
   },
   "outputs": [
    {
     "name": "stdout",
     "output_type": "stream",
     "text": [
      "O número  42  é divisível por  7 .\n"
     ]
    }
   ],
   "source": [
    "N = 42\n",
    "P = 7\n",
    "\n",
    "#Seu código\n",
    "def divisibilidade(N,P):\n",
    "    if N % P == 0:\n",
    "        print('O número ',N,' é divisível por ',P,'.') \n",
    "    else:\n",
    "        print('O número ',N,' não é divisível por ',P,'.') \n",
    "    \n",
    "divisibilidade(N,P)    "
   ]
  },
  {
   "cell_type": "markdown",
   "metadata": {
    "id": "0d5Kdrz283yJ"
   },
   "source": [
    "### 04 - Números primos\n",
    "> Um número **N** é primo se e somente se é divisível por 1, -1, por **N** e por -**N**.  \n",
    "\n",
    "Escreva um script que verifica se ```N``` é um número primo, verificando se ```N``` é divisível por todos os números de ```1``` a ```N-1```. Você vai precisar usar alguma ferramenta de *loop* que você aprendeu para isto. No final, devolva uma mensagem no output indicando se o número é primo ou não."
   ]
  },
  {
   "cell_type": "code",
   "execution_count": 3,
   "metadata": {
    "id": "h_lFO-EO83yJ"
   },
   "outputs": [
    {
     "name": "stdout",
     "output_type": "stream",
     "text": [
      "O número  47  é primo.\n"
     ]
    }
   ],
   "source": [
    "N = 47\n",
    "\n",
    "\n",
    "# seu código abaixo\n",
    "def verifica_primo(N) :\n",
    "    if N <= 0 : # exclui negativos e 0.\n",
    "        print('O número ',N,' não é primo.')\n",
    "    else :  # conta divisores(d) de 1 a N.  \n",
    "        d = 0\n",
    "        for i in range(1, N + 1) : \n",
    "            if N % i == 0 :\n",
    "                d += 1\n",
    "        match d :\n",
    "            case 2 : # Caso N tenha dois divisores, 1 e ele mesmo: d = 2 e N é primo.\n",
    "                print('O número ',N,' é primo.')\n",
    "            case _ : \n",
    "                print('O número ',N,' não é primo.')\n",
    "\n",
    "verifica_primo(N)\n",
    "            \n",
    "      "
   ]
  },
  {
   "cell_type": "markdown",
   "metadata": {
    "id": "zHwDnURO83yK"
   },
   "source": [
    "### 05 - Desafio\n",
    "O algorítmo do exercício anterior não é o mais eficiente. O que você pode fazer para deixá-lo mais eficiente? Ou seja, executar menos comparações, portanto consumir menos tempo.\n",
    "1. Será que precisamos correr o loop até o final sempre?\n",
    "2. Será que precisamos mesmo verificar **todos** os números?\n",
    "3. Será que precisamos ir até N-1?\n",
    "\n",
    "Essas perguntas levam ao tipo de pensamento voltado a deixar um algoritmo mais eficiente. Veja se você consegue melhorar o seu."
   ]
  },
  {
   "cell_type": "code",
   "execution_count": 4,
   "metadata": {
    "id": "DDdwfZOL83yM"
   },
   "outputs": [
    {
     "name": "stdout",
     "output_type": "stream",
     "text": [
      "O número  98  não é primo.\n"
     ]
    }
   ],
   "source": [
    "N = 98\n",
    "\n",
    "\n",
    "# seu código aqui\n",
    "def verifica_primo_otimizado(N) :\n",
    "\n",
    "    if N <= 1 : #exclui negativos e um.\n",
    "        print('O número ',N,' não é primo.')\n",
    "    elif N != 2 and N % 2 == 0 : # exclui pares exceto 2.\n",
    "        print('O número ',N,' não é primo.')\n",
    "    else : # Assume primo como verdade.Caso encontre o primeiro divisor entre 2 e N/2, a varredura desse intervalo para e assume primo como mentira.\n",
    "        primo = 'TRUE'\n",
    "        i=2\n",
    "        while primo == 'TRUE' and i <= N/2 :\n",
    "            if N % i == 0 :\n",
    "                primo = 'FALSE'\n",
    "            i += 1    \n",
    "        if primo == 'FALSE' :\n",
    "            print('O número ',N,' não é primo.')\n",
    "        elif primo == 'TRUE' :\n",
    "            print('O número ',N,' é primo.')\n",
    "\n",
    "verifica_primo_otimizado(N)\n",
    "            \n",
    "      "
   ]
  },
  {
   "cell_type": "markdown",
   "metadata": {
    "id": "4zhVSQan83yN"
   },
   "source": [
    "### 06 - Peso ideal 1\n",
    "O IMC (índice de massa corpórea) é um indicador de saúde mais bem aceito que o peso. Ele é calculado como:\n",
    "\n",
    "$$ IMC = \\dfrac{peso}{altura^2}$$\n",
    "\n",
    "Segundo a OMS, valores *normais* são entre 18.5 e 24.9.\n",
    "\n",
    "Sua tarefa é encontrar o ponto médio dessa faixa."
   ]
  },
  {
   "cell_type": "code",
   "execution_count": 5,
   "metadata": {
    "id": "3DzxicN983yO",
    "outputId": "6a947e58-88b2-4764-a9ca-717b971adb3d"
   },
   "outputs": [
    {
     "data": {
      "text/plain": [
       "21.7"
      ]
     },
     "execution_count": 5,
     "metadata": {},
     "output_type": "execute_result"
    }
   ],
   "source": [
    "imc_ideal = (18.5 + 24.9) / 2 \n",
    "imc_ideal"
   ]
  },
  {
   "cell_type": "markdown",
   "metadata": {
    "id": "Z8uBOym483yP"
   },
   "source": [
    "### 07 - Peso ideal 2\n",
    "Recebendo um valor de altura, encontre o peso '*ideal*' dessa pessoa, que fornece o IMC encontrado acima"
   ]
  },
  {
   "cell_type": "code",
   "execution_count": 6,
   "metadata": {
    "id": "rrNwycte83yP",
    "outputId": "0e63b2ff-3743-48c7-a472-b48a450a0867"
   },
   "outputs": [
    {
     "data": {
      "text/plain": [
       "73.78"
      ]
     },
     "execution_count": 6,
     "metadata": {},
     "output_type": "execute_result"
    }
   ],
   "source": [
    "altura = 1.70\n",
    "\n",
    "# Seu código\n",
    "peso_ideal = imc_ideal * (altura * 2)\n",
    "peso_ideal"
   ]
  },
  {
   "cell_type": "markdown",
   "metadata": {
    "id": "zEdM6J_i83yP"
   },
   "source": [
    "### 08 - Peso ideal 3\n",
    "Dada uma lista contendo as alturas de pacientes, crie uma nova lista que contenha o peso '*ideal*' (que fornece o IMC calculado em **Peso ideal 1**) desses pacientes."
   ]
  },
  {
   "cell_type": "code",
   "execution_count": 7,
   "metadata": {
    "id": "KN1mB_My83yQ",
    "outputId": "f070d54d-c156-4546-e3c7-b5bc500059d9"
   },
   "outputs": [
    {
     "data": {
      "text/plain": [
       "[84.63, 88.97, 73.78, 69.87]"
      ]
     },
     "execution_count": 7,
     "metadata": {},
     "output_type": "execute_result"
    }
   ],
   "source": [
    "lista_alturas = [1.95, 2.05, 1.70, 1.61]\n",
    "\n",
    "# seu código\n",
    "lista_peso_ideal = list(map(lambda altura: round(imc_ideal * (altura * 2),2), lista_alturas ))\n",
    "\n",
    "lista_peso_ideal"
   ]
  },
  {
   "cell_type": "markdown",
   "metadata": {
    "id": "8OKAtYQM83yQ"
   },
   "source": [
    "### 09 - Peso ideal 4\n",
    "Dada uma lista de tuplas - cada elemento da lista é uma tupla contendo altura e peso de um paciente - crie uma nova lista com o IMC desses pacientes."
   ]
  },
  {
   "cell_type": "code",
   "execution_count": 8,
   "metadata": {
    "id": "FaXgkjzI83yQ",
    "outputId": "8adc5e59-8a72-42db-db6b-6895587e875e"
   },
   "outputs": [
    {
     "data": {
      "text/plain": [
       "[25.0, 22.73, 18.32]"
      ]
     },
     "execution_count": 8,
     "metadata": {},
     "output_type": "execute_result"
    }
   ],
   "source": [
    "altura_peso = [(1.80, 90), (1.65, 75), (1.91, 70)]\n",
    "\n",
    "# seu código\n",
    "\n",
    "imc =  [round(altura_peso[i][1] / (altura_peso[i][0]*2),2) for i in range(0,len(altura_peso)) ]\n",
    "\n",
    "imc"
   ]
  },
  {
   "cell_type": "markdown",
   "metadata": {
    "id": "kZdSJqJq83yR"
   },
   "source": [
    "### 10 - Peso ideal 5\n",
    "Dada uma lista de **listas** - cada elemento da lista é uma **lista** contendo altura e peso de um paciente, adicione mais um elemento à lista de cada paciente contendo o IMC do paciente. Verifique também se é 'baixo', 'normal' ou 'alto' segundo os padrões da OMS em que normal é entre 18.5 e 24.9.\n",
    "\n",
    "Reflexão: por que no problema anterior temos que criar uma nova lista, e não podemos adicionar os dados de cada indivíduo à tupla?"
   ]
  },
  {
   "cell_type": "code",
   "execution_count": 79,
   "metadata": {
    "id": "EwszojP283yR"
   },
   "outputs": [
    {
     "name": "stdout",
     "output_type": "stream",
     "text": [
      "Paciente  1 :\n",
      "Altura -  1.8 m\n",
      "Peso -  90 kg\n",
      "IMC -  25.0  Classificado como  ALTO .\n",
      "\n",
      "Paciente  2 :\n",
      "Altura -  1.65 m\n",
      "Peso -  75 kg\n",
      "IMC -  22.73  Classificado como  NORMAL .\n",
      "\n",
      "Paciente  3 :\n",
      "Altura -  1.91 m\n",
      "Peso -  70 kg\n",
      "IMC -  18.32  Classificado como  BAIXO .\n",
      "\n"
     ]
    },
    {
     "data": {
      "text/plain": [
       "[[1.8, 90, 25.0], [1.65, 75, 22.73], [1.91, 70, 18.32]]"
      ]
     },
     "execution_count": 79,
     "metadata": {},
     "output_type": "execute_result"
    }
   ],
   "source": [
    "altura_peso = [[1.80, 90], [1.65, 75], [1.91, 70]]\n",
    "\n",
    "# seu código\n",
    "altura_peso_imc = altura_peso\n",
    "for i in range(0, len(altura_peso)):\n",
    "    altura_peso_imc[i].append([round(pessoa[1] / (pessoa[0]*2),2)  for pessoa in altura_peso][i]) \n",
    "    if altura_peso_imc[i][2] < 18.5 :\n",
    "        imc_padrao = 'BAIXO'\n",
    "    elif  altura_peso_imc[i][2] >= 18.5 and altura_peso_imc[i][2] <= 24.9 :\n",
    "        imc_padrao = 'NORMAL'\n",
    "    elif  altura_peso_imc[i][2] >= 24.9 :\n",
    "        imc_padrao = 'ALTO'    \n",
    "    print('Paciente ' , i+1 ,\n",
    "          ':\\nAltura - ' , altura_peso_imc[i][0] ,\n",
    "          'm\\nPeso - ', altura_peso_imc[i][1] ,\n",
    "          'kg\\nIMC - ', altura_peso_imc[i][2] ,\n",
    "          ' Classificado como ' , imc_padrao , '.\\n')\n",
    "\n",
    "altura_peso_imc"
   ]
  }
 ],
 "metadata": {
  "colab": {
   "collapsed_sections": [],
   "provenance": []
  },
  "kernelspec": {
   "display_name": "Python 3 (ipykernel)",
   "language": "python",
   "name": "python3"
  },
  "language_info": {
   "codemirror_mode": {
    "name": "ipython",
    "version": 3
   },
   "file_extension": ".py",
   "mimetype": "text/x-python",
   "name": "python",
   "nbconvert_exporter": "python",
   "pygments_lexer": "ipython3",
   "version": "3.11.5"
  }
 },
 "nbformat": 4,
 "nbformat_minor": 1
}
